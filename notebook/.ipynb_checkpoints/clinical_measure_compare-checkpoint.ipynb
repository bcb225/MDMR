{
 "cells": [
  {
   "cell_type": "code",
   "execution_count": 2,
   "id": "c477485e-6f28-4abf-8b6e-82e3e5ec133a",
   "metadata": {},
   "outputs": [],
   "source": [
    "from scipy.stats import ttest_ind\n",
    "import pandas as pd\n",
    "\n",
    "file_path = '/home/changbae/fmri_project/MDMR/notebook/data/participant_demo_clinical.csv'\n",
    "data = pd.read_csv(file_path)\n",
    "\n",
    "# Columns to exclude\n",
    "exclude_columns = ['HAID ID', 'Exp No.', 'fmri_code', 'Screening #', 'Enrollment #']\n",
    "\n",
    "# Filter columns\n",
    "columns_to_include = [col for col in data.columns if col not in exclude_columns]\n",
    "\n",
    "# Filter data for relevant columns\n",
    "filtered_data = data[columns_to_include]\n",
    "\n",
    "# Split data into EXP and HC groups\n",
    "exp_group = filtered_data[filtered_data['GROUP'] == 'EXP']\n",
    "hc_group = filtered_data[filtered_data['GROUP'] == 'HC']\n",
    "\n",
    "# Initialize lists to store results\n",
    "results = []\n",
    "\n",
    "# Calculate mean, std, and p-value for each column\n",
    "for column in columns_to_include:\n",
    "    if column == 'GROUP':\n",
    "        continue\n",
    "    exp_values = exp_group[column].dropna().astype(float)\n",
    "    hc_values = hc_group[column].dropna().astype(float)\n",
    "    \n",
    "    mean_exp = exp_values.mean()\n",
    "    std_exp = exp_values.std()\n",
    "    mean_hc = hc_values.mean()\n",
    "    std_hc = hc_values.std()\n",
    "    t_stat, p_value = ttest_ind(exp_values, hc_values, equal_var=False)\n",
    "    \n",
    "    results.append({\n",
    "        'Measure': column,\n",
    "        'Mean_EXP': mean_exp,\n",
    "        'STD_EXP': std_exp,\n",
    "        'Mean_HC': mean_hc,\n",
    "        'STD_HC': std_hc,\n",
    "        'P_value': p_value\n",
    "    })\n",
    "\n",
    "# Convert results to DataFrame\n",
    "results_df = pd.DataFrame(results)"
   ]
  },
  {
   "cell_type": "code",
   "execution_count": null,
   "id": "019af489-0887-4585-8b06-c87c7228aa45",
   "metadata": {},
   "outputs": [],
   "source": []
  }
 ],
 "metadata": {
  "kernelspec": {
   "display_name": "fmrienv",
   "language": "python",
   "name": "fmrienv"
  },
  "language_info": {
   "codemirror_mode": {
    "name": "ipython",
    "version": 3
   },
   "file_extension": ".py",
   "mimetype": "text/x-python",
   "name": "python",
   "nbconvert_exporter": "python",
   "pygments_lexer": "ipython3",
   "version": "3.9.19"
  }
 },
 "nbformat": 4,
 "nbformat_minor": 5
}
